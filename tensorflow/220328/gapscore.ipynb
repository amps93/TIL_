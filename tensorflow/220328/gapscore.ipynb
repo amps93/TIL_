{
 "cells": [
  {
   "cell_type": "code",
   "execution_count": 1,
   "id": "e0457ec0-110b-4f4d-a46c-51482c2009fe",
   "metadata": {},
   "outputs": [],
   "source": [
    "# admit : 합격여부 / gre : 영어성적 / gpa : 학점 / rank : 학교 수준"
   ]
  },
  {
   "cell_type": "code",
   "execution_count": 25,
   "id": "034351d2-ec49-4e28-a2bf-59002d169cad",
   "metadata": {},
   "outputs": [
    {
     "name": "stdout",
     "output_type": "stream",
     "text": [
      "admit    0\n",
      "gre      0\n",
      "gpa      0\n",
      "rank     0\n",
      "dtype: int64\n"
     ]
    }
   ],
   "source": [
    "import tensorflow as tf\n",
    "import pandas as pd\n",
    "import numpy as np\n",
    "\n",
    "data = pd.read_csv('gpascore.csv')\n",
    "\n",
    "# print(data.isnull().sum())\n",
    "data.dropna(inplace=True)\n",
    "print(data.isnull().sum())"
   ]
  },
  {
   "cell_type": "code",
   "execution_count": 26,
   "id": "32e4ed4d-aa72-4ef2-a367-0c4e68bee3b4",
   "metadata": {},
   "outputs": [
    {
     "name": "stdout",
     "output_type": "stream",
     "text": [
      "0      3.21\n",
      "1      3.67\n",
      "2      4.00\n",
      "3      3.19\n",
      "4      2.33\n",
      "       ... \n",
      "421    3.44\n",
      "422    3.66\n",
      "423    3.25\n",
      "424    3.76\n",
      "425    3.82\n",
      "Name: gpa, Length: 425, dtype: float64\n",
      "2.12\n",
      "594.3294117647059\n",
      "425\n"
     ]
    }
   ],
   "source": [
    "print(data['gpa'])\n",
    "print(data['gpa'].min())\n",
    "print(data['gre'].mean())\n",
    "print(data['gre'].count())"
   ]
  },
  {
   "cell_type": "code",
   "execution_count": 27,
   "id": "e5f2e57b-0a4e-489a-a222-fd2f1c7f2659",
   "metadata": {},
   "outputs": [],
   "source": [
    "y_label = data['admit'].values # values : 데이터를 리스트로 담아줌\n",
    "# print(y_label)\n",
    "\n",
    "X_data = []\n",
    "for i, rows in data.iterrows():\n",
    "#     print(i, rows)\n",
    "    X_data.append([rows['gre'], rows['gpa'], rows['rank']])\n",
    "    \n",
    "# print(X_data)"
   ]
  },
  {
   "cell_type": "code",
   "execution_count": 34,
   "id": "47febab4-72e7-4573-8d6c-86763306a318",
   "metadata": {},
   "outputs": [
    {
     "name": "stdout",
     "output_type": "stream",
     "text": [
      "Epoch 1/10\n",
      "14/14 [==============================] - 0s 1ms/step - loss: 0.5619 - accuracy: 0.7200\n",
      "Epoch 2/10\n",
      "14/14 [==============================] - 0s 2ms/step - loss: 0.5365 - accuracy: 0.7388\n",
      "Epoch 3/10\n",
      "14/14 [==============================] - 0s 2ms/step - loss: 0.5299 - accuracy: 0.7482\n",
      "Epoch 4/10\n",
      "14/14 [==============================] - 0s 2ms/step - loss: 0.5254 - accuracy: 0.7294\n",
      "Epoch 5/10\n",
      "14/14 [==============================] - 0s 2ms/step - loss: 0.5112 - accuracy: 0.7647\n",
      "Epoch 6/10\n",
      "14/14 [==============================] - 0s 2ms/step - loss: 0.4902 - accuracy: 0.7835\n",
      "Epoch 7/10\n",
      "14/14 [==============================] - 0s 2ms/step - loss: 0.5453 - accuracy: 0.7271\n",
      "Epoch 8/10\n",
      "14/14 [==============================] - 0s 2ms/step - loss: 0.5489 - accuracy: 0.7224\n",
      "Epoch 9/10\n",
      "14/14 [==============================] - 0s 1ms/step - loss: 0.5101 - accuracy: 0.7647\n",
      "Epoch 10/10\n",
      "14/14 [==============================] - 0s 2ms/step - loss: 0.5789 - accuracy: 0.7106\n"
     ]
    },
    {
     "data": {
      "text/plain": [
       "<tensorflow.python.keras.callbacks.History at 0x19159af27c8>"
      ]
     },
     "execution_count": 34,
     "metadata": {},
     "output_type": "execute_result"
    }
   ],
   "source": [
    "# 딥러닝 모델 생성\n",
    "model = tf.keras.models.Sequential([\n",
    "    tf.keras.layers.Dense(64, activation='tanh'), # 첫번째 히든 레이어 / 64 : 노드의 갯수 (관습적으로 2의 제곱수로 설정함) / activation : 활성화 함수\n",
    "    tf.keras.layers.Dense(128, activation='tanh'),\n",
    "    tf.keras.layers.Dense(1, activation='sigmoid') #마지막 레이어는 예측결과(0~1)를 내야함 -> sigmoid 사용\n",
    "]) \n",
    "\n",
    "# 모델 컴파일\n",
    "model.compile(optimizer='adam', loss='binary_crossentropy', metrics=['accuracy']) # binary_crossentropy : 분류 문제에서 높은 예측률을 보임\n",
    "\n",
    "# 모델 학습\n",
    "model.fit(np.array(X_data), np.array(y_label), epochs=1000, verbose=0) # 데이터를 numpy or tensor 형식으로 집어넣어야됨\n",
    "model.fit(np.array(X_data), np.array(y_label), epochs=10)"
   ]
  },
  {
   "cell_type": "code",
   "execution_count": 36,
   "id": "1b433c10-3967-478f-82eb-6caa42331b60",
   "metadata": {},
   "outputs": [
    {
     "name": "stdout",
     "output_type": "stream",
     "text": [
      "[[0.9059171 ]\n",
      " [0.09452975]]\n"
     ]
    }
   ],
   "source": [
    "# 예측\n",
    "predict = model.predict([[750, 3.70, 3], [400, 2.2, 1]])\n",
    "print(predict)"
   ]
  },
  {
   "cell_type": "code",
   "execution_count": null,
   "id": "d51be1d9-6dde-49ae-9006-22725bd8e46d",
   "metadata": {},
   "outputs": [],
   "source": []
  }
 ],
 "metadata": {
  "kernelspec": {
   "display_name": "Python Multi",
   "language": "python",
   "name": "multi"
  },
  "language_info": {
   "codemirror_mode": {
    "name": "ipython",
    "version": 3
   },
   "file_extension": ".py",
   "mimetype": "text/x-python",
   "name": "python",
   "nbconvert_exporter": "python",
   "pygments_lexer": "ipython3",
   "version": "3.7.6"
  }
 },
 "nbformat": 4,
 "nbformat_minor": 5
}
