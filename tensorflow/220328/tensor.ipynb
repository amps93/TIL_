{
 "cells": [
  {
   "cell_type": "code",
   "execution_count": 1,
   "id": "16db3b99-b2a9-4ade-8bb0-f28854bfe9a2",
   "metadata": {},
   "outputs": [],
   "source": [
    "import tensorflow as tf"
   ]
  },
  {
   "cell_type": "code",
   "execution_count": 2,
   "id": "6845c770-d8e4-4df3-b0c4-78c2643d14cd",
   "metadata": {},
   "outputs": [
    {
     "name": "stdout",
     "output_type": "stream",
     "text": [
      "tf.Tensor(3, shape=(), dtype=int32)\n"
     ]
    }
   ],
   "source": [
    "텐서 = tf.constant(3)\n",
    "print(텐서)"
   ]
  },
  {
   "cell_type": "code",
   "execution_count": 11,
   "id": "ac306a0a-defa-4454-ba65-a2c95077ceab",
   "metadata": {},
   "outputs": [
    {
     "name": "stdout",
     "output_type": "stream",
     "text": [
      "tf.Tensor([ 9 11 13], shape=(3,), dtype=int32)\n",
      "tf.Tensor([ 9 11 13], shape=(3,), dtype=int32)\n",
      "tf.Tensor([-3 -3 -3], shape=(3,), dtype=int32)\n",
      "tf.Tensor([18 28 40], shape=(3,), dtype=int32)\n",
      "tf.Tensor([0.5        0.57142857 0.625     ], shape=(3,), dtype=float64)\n"
     ]
    }
   ],
   "source": [
    "텐서 = tf.constant([3,4,5])\n",
    "텐서2 = tf.constant([6,7,8])\n",
    "\n",
    "print(텐서 + 텐서2)\n",
    "print(tf.add(텐서, 텐서2))\n",
    "print(tf.subtract(텐서, 텐서2))\n",
    "print(tf.multiply(텐서, 텐서2))\n",
    "print(tf.divide(텐서, 텐서2))"
   ]
  },
  {
   "cell_type": "code",
   "execution_count": 9,
   "id": "c0008e22-a76c-46e2-963e-e7edbe8a58ad",
   "metadata": {},
   "outputs": [
    {
     "name": "stdout",
     "output_type": "stream",
     "text": [
      "tf.Tensor([ 9 11 13], shape=(3,), dtype=int32)\n"
     ]
    }
   ],
   "source": [
    "텐서3 = tf.constant([[1,2], [3,4]])\n",
    "# 행렬\n",
    "# |1 2| \n",
    "# |3 4|"
   ]
  },
  {
   "cell_type": "code",
   "execution_count": 12,
   "id": "6ee4bea6-f2da-4f31-90e7-7753739de77c",
   "metadata": {},
   "outputs": [
    {
     "data": {
      "text/plain": [
       "<tf.Tensor: shape=(2, 2), dtype=int32, numpy=\n",
       "array([[19, 22],\n",
       "       [43, 50]])>"
      ]
     },
     "execution_count": 12,
     "metadata": {},
     "output_type": "execute_result"
    }
   ],
   "source": [
    "텐서4 = tf.constant([[5,6], [7,8]])\n",
    "tf.matmul(텐서3, 텐서4)"
   ]
  },
  {
   "cell_type": "code",
   "execution_count": 19,
   "id": "12010e6d-cec9-467a-a62a-6eee2593afc1",
   "metadata": {},
   "outputs": [
    {
     "name": "stdout",
     "output_type": "stream",
     "text": [
      "tf.Tensor([0. 0. 0. 0. 0. 0. 0. 0. 0.], shape=(9,), dtype=float32)\n"
     ]
    }
   ],
   "source": [
    "텐서5 = tf.zeros(9)\n",
    "print(텐서5)"
   ]
  },
  {
   "cell_type": "code",
   "execution_count": 18,
   "id": "5da4cb12-cf2c-4db8-bae6-4d90b84b73b4",
   "metadata": {},
   "outputs": [
    {
     "name": "stdout",
     "output_type": "stream",
     "text": [
      "tf.Tensor(\n",
      "[[0. 0. 0.]\n",
      " [0. 0. 0.]\n",
      " [0. 0. 0.]], shape=(3, 3), dtype=float32)\n"
     ]
    }
   ],
   "source": [
    "텐서6 = tf.zeros([3,3])\n",
    "print(텐서6)"
   ]
  },
  {
   "cell_type": "code",
   "execution_count": 20,
   "id": "76afe031-8f13-4681-9f03-c5524767dffe",
   "metadata": {},
   "outputs": [
    {
     "name": "stdout",
     "output_type": "stream",
     "text": [
      "tf.Tensor(\n",
      "[[[0. 0. 0.]\n",
      "  [0. 0. 0.]]\n",
      "\n",
      " [[0. 0. 0.]\n",
      "  [0. 0. 0.]]], shape=(2, 2, 3), dtype=float32)\n"
     ]
    }
   ],
   "source": [
    "텐서7 = tf.zeros([2,2,3]) #3개의 0이 들어있는 리스트를 2개 생성 후 또 다시 2개 생성\n",
    "print(텐서7)"
   ]
  },
  {
   "cell_type": "code",
   "execution_count": 25,
   "id": "2f4003be-2cbe-4e79-a3cc-aabd4015f0fb",
   "metadata": {},
   "outputs": [
    {
     "name": "stdout",
     "output_type": "stream",
     "text": [
      "(3,)\n",
      "(2, 3)\n"
     ]
    }
   ],
   "source": [
    "텐서8 = tf.constant([[1,2,3],[4,5,6]])\n",
    "\n",
    "print(텐서.shape)\n",
    "print(텐서8.shape) # 3개의 원소를 가진 리스트가 2개가 있다 (2, 3)"
   ]
  },
  {
   "cell_type": "code",
   "execution_count": 28,
   "id": "38e7652d-4cf8-4595-b9c4-d1ed2ca88cf5",
   "metadata": {},
   "outputs": [
    {
     "name": "stdout",
     "output_type": "stream",
     "text": [
      "<tf.Variable 'Variable:0' shape=() dtype=float32, numpy=1.0>\n"
     ]
    }
   ],
   "source": [
    "# tf.constant는 고정된 값\n",
    "# tf.Variable() 고정되지 않은 값 ex)weight\n",
    "w = tf.Variable(1.0) # 초기값이 1.0\n",
    "\n",
    "print(w)"
   ]
  },
  {
   "cell_type": "code",
   "execution_count": 29,
   "id": "2914cae1-5e45-4e20-bd1a-abe5bb639978",
   "metadata": {},
   "outputs": [
    {
     "name": "stdout",
     "output_type": "stream",
     "text": [
      "<tf.Variable 'Variable:0' shape=() dtype=float32, numpy=2.0>\n"
     ]
    }
   ],
   "source": [
    "w.assign(2)\n",
    "print(w)"
   ]
  },
  {
   "cell_type": "code",
   "execution_count": 34,
   "id": "377eae45-6bf2-482e-ae49-1fe327d8eef9",
   "metadata": {},
   "outputs": [
    {
     "name": "stdout",
     "output_type": "stream",
     "text": [
      "2.0\n"
     ]
    }
   ],
   "source": [
    "print(w.numpy())"
   ]
  },
  {
   "cell_type": "code",
   "execution_count": null,
   "id": "18a3ca40-6a29-45d2-827a-0357a7c01807",
   "metadata": {},
   "outputs": [],
   "source": []
  }
 ],
 "metadata": {
  "kernelspec": {
   "display_name": "Python Multi",
   "language": "python",
   "name": "multi"
  },
  "language_info": {
   "codemirror_mode": {
    "name": "ipython",
    "version": 3
   },
   "file_extension": ".py",
   "mimetype": "text/x-python",
   "name": "python",
   "nbconvert_exporter": "python",
   "pygments_lexer": "ipython3",
   "version": "3.7.6"
  }
 },
 "nbformat": 4,
 "nbformat_minor": 5
}
