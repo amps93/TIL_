{
 "cells": [
  {
   "cell_type": "code",
   "execution_count": null,
   "id": "8d6cd4f5-1479-40b1-856d-021c46db20b0",
   "metadata": {},
   "outputs": [],
   "source": [
    "# 회귀 데이터 전처리"
   ]
  },
  {
   "cell_type": "code",
   "execution_count": 4,
   "id": "efc74389-77dc-4ada-ad77-705e61d76ca3",
   "metadata": {},
   "outputs": [
    {
     "name": "stdout",
     "output_type": "stream",
     "text": [
      "5 folds의 개별 Negative MSE scores :  [-12.46 -26.05 -33.07 -80.76 -33.31]\n",
      "5 folds의 개별 RMSE scores :  [3.53 5.1  5.75 8.99 5.77]\n",
      "5 folds의 평균 RMSE : 5.829\n"
     ]
    }
   ],
   "source": [
    "import numpy as np\n",
    "import matplotlib.pyplot as plt\n",
    "import pandas as pd\n",
    "import seaborn as sns\n",
    "from scipy import stats\n",
    "from sklearn.datasets import load_boston\n",
    "from sklearn.preprocessing import PolynomialFeatures\n",
    "%matplotlib inline\n",
    "\n",
    "boston = load_boston()\n",
    "\n",
    "bostonDF = pd.DataFrame(boston.data, columns=boston.feature_names)\n",
    "\n",
    "bostonDF['PRICE'] = boston.target\n",
    "\n",
    "# 2개의 행과 4개의 열을 가진 subplots를 이용. axs는 4x2개의 ax를 가짐\n",
    "# fig, axs = plt.subplots(figsize=(16, 8), ncols=4, nrows=2)\n",
    "lm_features = ['RM', 'ZN', 'INDUS', 'NOX', 'AGE', 'PTRATIO', 'LSTAT', 'RAD']\n",
    "'''for i, feature in enumerate(lm_features):\n",
    "    row = int(i/4)\n",
    "    col = i%4\n",
    "    # seaborn의 regplot을 이용해 산점도와 선형회귀직선을 함께 표현\n",
    "    sns.regplot(x=feature, y='PRICE', data=bostonDF, ax=axs[row][col])'''\n",
    "    \n",
    "from sklearn.model_selection import train_test_split\n",
    "from sklearn.linear_model import LinearRegression\n",
    "from sklearn.metrics import mean_squared_error, r2_score\n",
    "\n",
    "y_target = bostonDF['PRICE']\n",
    "X_data = bostonDF.drop(['PRICE'], axis=1, inplace=False)\n",
    "\n",
    "X_train, X_test, y_train, y_test = train_test_split(X_data, y_target, test_size=0.3, random_state=156)\n",
    "\n",
    "#선형회귀 OLS로 학습/예측/평가 수행\n",
    "lr = LinearRegression()\n",
    "lr.fit(X_train, y_train)\n",
    "y_pred = lr.predict(X_test)\n",
    "mse = mean_squared_error(y_test, y_pred)\n",
    "rmse = np.sqrt(mse)\n",
    "\n",
    "from sklearn.model_selection import cross_val_score\n",
    "\n",
    "y_target = bostonDF['PRICE']\n",
    "X_data = bostonDF.drop(['PRICE'], axis=1, inplace=False)\n",
    "\n",
    "#cross_val_score()로 5폴드 세트로 MSE를 구한 뒤 이를 기반으로 다시 RMSE를 구함\n",
    "neg_mse_scores = cross_val_score(lr, X_data, y_target, scoring='neg_mean_squared_error', cv=5)\n",
    "rmse_scores = np.sqrt(-1 * neg_mse_scores)\n",
    "avg_rmse = np.mean(rmse_scores)\n",
    "\n",
    "# cross_val_score(scoring='neg_mean_squared_error')로 반환된 값은 모두 음수\n",
    "print('5 folds의 개별 Negative MSE scores : ', np.round(neg_mse_scores, 2))\n",
    "print('5 folds의 개별 RMSE scores : ', np.round(rmse_scores, 2))\n",
    "print('5 folds의 평균 RMSE : {0:.3f}'.format(avg_rmse))"
   ]
  },
  {
   "cell_type": "code",
   "execution_count": 21,
   "id": "5d3c65c9-6f67-4efe-8e95-f2cbb2c12ca3",
   "metadata": {},
   "outputs": [],
   "source": [
    "from sklearn.linear_model import Ridge, Lasso, ElasticNet\n",
    "\n",
    "# alpha 값에 따른 회귀 모델의 폴드 평균 RMSE를 출력하고 회귀 계수값들을 DataFrame으로 반환\n",
    "def get_linear_reg_eval(model_name, params=None, X_data_n=None, y_target_n=None, verbose=True, return_coeff=True):\n",
    "    coeff_df = pd.DataFrame()\n",
    "    if verbose : print('##### ', model_name, '#####')\n",
    "    for param in params:\n",
    "        if model_name == 'Ridge': model = Ridge(alpha=param)\n",
    "        elif model_name == 'Lasso' : model = Lasso(alpha=param)\n",
    "        elif model_name == 'ElasticNet' : model = ElasticNet(alpha=param, l1_ratio=0.7)\n",
    "        neg_mse_scores = cross_val_score(model, X_data_n, y_target_n, scoring='neg_mean_squared_error', cv=5)\n",
    "        avg_rmse = np.mean(np.sqrt(-1*neg_mse_scores))\n",
    "        print('alpha {0}일 때 5폴드 세트의 평균 RMSE : {1:.3f}'.format(param, avg_rmse))\n",
    "        \n",
    "        # cross_val_score는 evaluation metric만 반환하므로 모델을 다시 학습하여 회귀 계수 추출\n",
    "        model.fit(X_data_n, y_target_n)\n",
    "        if return_coeff:\n",
    "            # alpha에 따른 피쳐별 회귀 계수를 series로 변환하고 이를 dataframe의 컬럼으로 추가\n",
    "            coeff = pd.Series(data=model.coef_, index=X_data_n.columns)\n",
    "            colname = 'alpha:' + str(param)\n",
    "            coeff_df[colname] = coeff\n",
    "            \n",
    "    return coeff_df"
   ]
  },
  {
   "cell_type": "code",
   "execution_count": 24,
   "id": "3341551a-1f1d-4290-9f15-a94a080a6b76",
   "metadata": {},
   "outputs": [],
   "source": [
    "from sklearn.preprocessing import StandardScaler, MinMaxScaler\n",
    "import numpy as np\n",
    "\n",
    "# method는 표준 졍규 분포 변환(standard), 최댓값/최솟값 정규화(MinMax), 로그변환(log) 결정\n",
    "# p_degree는 다항식 특성을 추가할 때 적용. p_degree는 2이상 부여하지 않음\n",
    "def get_scaled_data(method='None', p_degree=None, input_data=None):\n",
    "    if method == 'Standard':\n",
    "        scaled_data =StandardScaler().fit_transform(input_data)\n",
    "    elif method == 'MinMax':\n",
    "        scaled_data = MinMaxScaler().fit_transform(input_data)\n",
    "    elif method == 'Log':\n",
    "        scaled_data = np.log1p(input_data)\n",
    "    else:\n",
    "        scaled_data = input_data\n",
    "    \n",
    "    if p_degree != None:\n",
    "        scaled_data = PolynomialFeatures(degree=p_degree, include_bias=False).fit_transform(scaled_data)\n",
    "        \n",
    "    return scaled_data    "
   ]
  },
  {
   "cell_type": "code",
   "execution_count": 25,
   "id": "f3c5d34a-d513-462e-9ee6-5a002cbc5cdc",
   "metadata": {},
   "outputs": [
    {
     "name": "stdout",
     "output_type": "stream",
     "text": [
      "\n",
      "## 변환 유형 : None, Polynomial Degree : None\n",
      "alpha 0.1일 때 5폴드 세트의 평균 RMSE : 5.788\n",
      "alpha 1일 때 5폴드 세트의 평균 RMSE : 5.653\n",
      "alpha 10일 때 5폴드 세트의 평균 RMSE : 5.518\n",
      "alpha 100일 때 5폴드 세트의 평균 RMSE : 5.330\n",
      "\n",
      "## 변환 유형 : Standard, Polynomial Degree : None\n",
      "alpha 0.1일 때 5폴드 세트의 평균 RMSE : 5.788\n",
      "alpha 1일 때 5폴드 세트의 평균 RMSE : 5.653\n",
      "alpha 10일 때 5폴드 세트의 평균 RMSE : 5.518\n",
      "alpha 100일 때 5폴드 세트의 평균 RMSE : 5.330\n",
      "\n",
      "## 변환 유형 : Standard, Polynomial Degree : 2\n",
      "alpha 0.1일 때 5폴드 세트의 평균 RMSE : 5.788\n",
      "alpha 1일 때 5폴드 세트의 평균 RMSE : 5.653\n",
      "alpha 10일 때 5폴드 세트의 평균 RMSE : 5.518\n",
      "alpha 100일 때 5폴드 세트의 평균 RMSE : 5.330\n",
      "\n",
      "## 변환 유형 : MinMax, Polynomial Degree : None\n",
      "alpha 0.1일 때 5폴드 세트의 평균 RMSE : 5.788\n",
      "alpha 1일 때 5폴드 세트의 평균 RMSE : 5.653\n",
      "alpha 10일 때 5폴드 세트의 평균 RMSE : 5.518\n",
      "alpha 100일 때 5폴드 세트의 평균 RMSE : 5.330\n",
      "\n",
      "## 변환 유형 : MinMax, Polynomial Degree : 2\n",
      "alpha 0.1일 때 5폴드 세트의 평균 RMSE : 5.788\n",
      "alpha 1일 때 5폴드 세트의 평균 RMSE : 5.653\n",
      "alpha 10일 때 5폴드 세트의 평균 RMSE : 5.518\n",
      "alpha 100일 때 5폴드 세트의 평균 RMSE : 5.330\n",
      "\n",
      "## 변환 유형 : Log, Polynomial Degree : None\n",
      "alpha 0.1일 때 5폴드 세트의 평균 RMSE : 5.788\n",
      "alpha 1일 때 5폴드 세트의 평균 RMSE : 5.653\n",
      "alpha 10일 때 5폴드 세트의 평균 RMSE : 5.518\n",
      "alpha 100일 때 5폴드 세트의 평균 RMSE : 5.330\n"
     ]
    }
   ],
   "source": [
    "# Ridge의 alpha값을 다르게 적용하고 다양한 데이터 변환 방법에 따른 RMSE 추출\n",
    "alphas = [0.1, 1, 10, 100]\n",
    "\n",
    "# 5개 방식으로 변환, 먼저 원본 그대로, 표준정규분포, 표준정규분포+다항식 특성\n",
    "# 최대/최소 정규화, 최대/최소 정규화+다항식 특성, 로그변환\n",
    "scale_methods = [(None, None), ('Standard', None), ('Standard', 2), ('MinMax', None), ('MinMax', 2), ('Log', None)]\n",
    "\n",
    "for scale_method in scale_methods:\n",
    "    X_data_scaled = get_scaled_data(method=scale_method[0], p_degree=scale_method[1], input_data=X_data)\n",
    "    print('\\n## 변환 유형 : {0}, Polynomial Degree : {1}'.format(scale_method[0], scale_method[1]))\n",
    "    get_linear_reg_eval('Ridge', params=alphas, X_data_n=X_data, y_target_n=y_target, verbose=False, return_coeff=False)"
   ]
  },
  {
   "cell_type": "code",
   "execution_count": null,
   "id": "431b56ee-f93b-419e-bbc5-6a6f0fc59756",
   "metadata": {},
   "outputs": [],
   "source": []
  }
 ],
 "metadata": {
  "kernelspec": {
   "display_name": "Python Multi",
   "language": "python",
   "name": "multi"
  },
  "language_info": {
   "codemirror_mode": {
    "name": "ipython",
    "version": 3
   },
   "file_extension": ".py",
   "mimetype": "text/x-python",
   "name": "python",
   "nbconvert_exporter": "python",
   "pygments_lexer": "ipython3",
   "version": "3.7.6"
  }
 },
 "nbformat": 4,
 "nbformat_minor": 5
}
