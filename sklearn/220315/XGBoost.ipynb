{
 "cells": [
  {
   "cell_type": "code",
   "execution_count": 16,
   "id": "3ad2819b-4b64-4f26-be97-a0963fc2b0db",
   "metadata": {},
   "outputs": [],
   "source": [
    "import xgboost as xgb\n",
    "from xgboost import XGBClassifier\n",
    "import pandas as pd\n",
    "import numpy as np\n",
    "from sklearn.datasets import load_breast_cancer\n",
    "from sklearn.model_selection import train_test_split\n",
    "import warnings\n",
    "warnings.filterwarnings('ignore')\n",
    "\n",
    "from sklearn.metrics import accuracy_score, precision_score, recall_score, roc_auc_score\n",
    "from sklearn.metrics import f1_score, confusion_matrix, precision_recall_curve, roc_curve\n",
    "from sklearn.preprocessing import StandardScaler\n",
    "from sklearn.linear_model import LogisticRegression"
   ]
  },
  {
   "cell_type": "code",
   "execution_count": 3,
   "id": "12844276-aa8b-490c-8424-4df04326f777",
   "metadata": {},
   "outputs": [
    {
     "name": "stdout",
     "output_type": "stream",
     "text": [
      "0.90\n"
     ]
    }
   ],
   "source": [
    "print(xgb.__version__)"
   ]
  },
  {
   "cell_type": "code",
   "execution_count": 4,
   "id": "cc51e872-a13c-4a2f-9d60-754c164b8ed0",
   "metadata": {},
   "outputs": [
    {
     "data": {
      "text/html": [
       "<div>\n",
       "<style scoped>\n",
       "    .dataframe tbody tr th:only-of-type {\n",
       "        vertical-align: middle;\n",
       "    }\n",
       "\n",
       "    .dataframe tbody tr th {\n",
       "        vertical-align: top;\n",
       "    }\n",
       "\n",
       "    .dataframe thead th {\n",
       "        text-align: right;\n",
       "    }\n",
       "</style>\n",
       "<table border=\"1\" class=\"dataframe\">\n",
       "  <thead>\n",
       "    <tr style=\"text-align: right;\">\n",
       "      <th></th>\n",
       "      <th>mean radius</th>\n",
       "      <th>mean texture</th>\n",
       "      <th>mean perimeter</th>\n",
       "      <th>mean area</th>\n",
       "      <th>mean smoothness</th>\n",
       "      <th>mean compactness</th>\n",
       "      <th>mean concavity</th>\n",
       "      <th>mean concave points</th>\n",
       "      <th>mean symmetry</th>\n",
       "      <th>mean fractal dimension</th>\n",
       "      <th>...</th>\n",
       "      <th>worst texture</th>\n",
       "      <th>worst perimeter</th>\n",
       "      <th>worst area</th>\n",
       "      <th>worst smoothness</th>\n",
       "      <th>worst compactness</th>\n",
       "      <th>worst concavity</th>\n",
       "      <th>worst concave points</th>\n",
       "      <th>worst symmetry</th>\n",
       "      <th>worst fractal dimension</th>\n",
       "      <th>target</th>\n",
       "    </tr>\n",
       "  </thead>\n",
       "  <tbody>\n",
       "    <tr>\n",
       "      <th>0</th>\n",
       "      <td>17.99</td>\n",
       "      <td>10.38</td>\n",
       "      <td>122.80</td>\n",
       "      <td>1001.0</td>\n",
       "      <td>0.11840</td>\n",
       "      <td>0.27760</td>\n",
       "      <td>0.3001</td>\n",
       "      <td>0.14710</td>\n",
       "      <td>0.2419</td>\n",
       "      <td>0.07871</td>\n",
       "      <td>...</td>\n",
       "      <td>17.33</td>\n",
       "      <td>184.60</td>\n",
       "      <td>2019.0</td>\n",
       "      <td>0.1622</td>\n",
       "      <td>0.6656</td>\n",
       "      <td>0.7119</td>\n",
       "      <td>0.2654</td>\n",
       "      <td>0.4601</td>\n",
       "      <td>0.11890</td>\n",
       "      <td>0</td>\n",
       "    </tr>\n",
       "    <tr>\n",
       "      <th>1</th>\n",
       "      <td>20.57</td>\n",
       "      <td>17.77</td>\n",
       "      <td>132.90</td>\n",
       "      <td>1326.0</td>\n",
       "      <td>0.08474</td>\n",
       "      <td>0.07864</td>\n",
       "      <td>0.0869</td>\n",
       "      <td>0.07017</td>\n",
       "      <td>0.1812</td>\n",
       "      <td>0.05667</td>\n",
       "      <td>...</td>\n",
       "      <td>23.41</td>\n",
       "      <td>158.80</td>\n",
       "      <td>1956.0</td>\n",
       "      <td>0.1238</td>\n",
       "      <td>0.1866</td>\n",
       "      <td>0.2416</td>\n",
       "      <td>0.1860</td>\n",
       "      <td>0.2750</td>\n",
       "      <td>0.08902</td>\n",
       "      <td>0</td>\n",
       "    </tr>\n",
       "    <tr>\n",
       "      <th>2</th>\n",
       "      <td>19.69</td>\n",
       "      <td>21.25</td>\n",
       "      <td>130.00</td>\n",
       "      <td>1203.0</td>\n",
       "      <td>0.10960</td>\n",
       "      <td>0.15990</td>\n",
       "      <td>0.1974</td>\n",
       "      <td>0.12790</td>\n",
       "      <td>0.2069</td>\n",
       "      <td>0.05999</td>\n",
       "      <td>...</td>\n",
       "      <td>25.53</td>\n",
       "      <td>152.50</td>\n",
       "      <td>1709.0</td>\n",
       "      <td>0.1444</td>\n",
       "      <td>0.4245</td>\n",
       "      <td>0.4504</td>\n",
       "      <td>0.2430</td>\n",
       "      <td>0.3613</td>\n",
       "      <td>0.08758</td>\n",
       "      <td>0</td>\n",
       "    </tr>\n",
       "    <tr>\n",
       "      <th>3</th>\n",
       "      <td>11.42</td>\n",
       "      <td>20.38</td>\n",
       "      <td>77.58</td>\n",
       "      <td>386.1</td>\n",
       "      <td>0.14250</td>\n",
       "      <td>0.28390</td>\n",
       "      <td>0.2414</td>\n",
       "      <td>0.10520</td>\n",
       "      <td>0.2597</td>\n",
       "      <td>0.09744</td>\n",
       "      <td>...</td>\n",
       "      <td>26.50</td>\n",
       "      <td>98.87</td>\n",
       "      <td>567.7</td>\n",
       "      <td>0.2098</td>\n",
       "      <td>0.8663</td>\n",
       "      <td>0.6869</td>\n",
       "      <td>0.2575</td>\n",
       "      <td>0.6638</td>\n",
       "      <td>0.17300</td>\n",
       "      <td>0</td>\n",
       "    </tr>\n",
       "    <tr>\n",
       "      <th>4</th>\n",
       "      <td>20.29</td>\n",
       "      <td>14.34</td>\n",
       "      <td>135.10</td>\n",
       "      <td>1297.0</td>\n",
       "      <td>0.10030</td>\n",
       "      <td>0.13280</td>\n",
       "      <td>0.1980</td>\n",
       "      <td>0.10430</td>\n",
       "      <td>0.1809</td>\n",
       "      <td>0.05883</td>\n",
       "      <td>...</td>\n",
       "      <td>16.67</td>\n",
       "      <td>152.20</td>\n",
       "      <td>1575.0</td>\n",
       "      <td>0.1374</td>\n",
       "      <td>0.2050</td>\n",
       "      <td>0.4000</td>\n",
       "      <td>0.1625</td>\n",
       "      <td>0.2364</td>\n",
       "      <td>0.07678</td>\n",
       "      <td>0</td>\n",
       "    </tr>\n",
       "  </tbody>\n",
       "</table>\n",
       "<p>5 rows × 31 columns</p>\n",
       "</div>"
      ],
      "text/plain": [
       "   mean radius  mean texture  mean perimeter  mean area  mean smoothness  \\\n",
       "0        17.99         10.38          122.80     1001.0          0.11840   \n",
       "1        20.57         17.77          132.90     1326.0          0.08474   \n",
       "2        19.69         21.25          130.00     1203.0          0.10960   \n",
       "3        11.42         20.38           77.58      386.1          0.14250   \n",
       "4        20.29         14.34          135.10     1297.0          0.10030   \n",
       "\n",
       "   mean compactness  mean concavity  mean concave points  mean symmetry  \\\n",
       "0           0.27760          0.3001              0.14710         0.2419   \n",
       "1           0.07864          0.0869              0.07017         0.1812   \n",
       "2           0.15990          0.1974              0.12790         0.2069   \n",
       "3           0.28390          0.2414              0.10520         0.2597   \n",
       "4           0.13280          0.1980              0.10430         0.1809   \n",
       "\n",
       "   mean fractal dimension  ...  worst texture  worst perimeter  worst area  \\\n",
       "0                 0.07871  ...          17.33           184.60      2019.0   \n",
       "1                 0.05667  ...          23.41           158.80      1956.0   \n",
       "2                 0.05999  ...          25.53           152.50      1709.0   \n",
       "3                 0.09744  ...          26.50            98.87       567.7   \n",
       "4                 0.05883  ...          16.67           152.20      1575.0   \n",
       "\n",
       "   worst smoothness  worst compactness  worst concavity  worst concave points  \\\n",
       "0            0.1622             0.6656           0.7119                0.2654   \n",
       "1            0.1238             0.1866           0.2416                0.1860   \n",
       "2            0.1444             0.4245           0.4504                0.2430   \n",
       "3            0.2098             0.8663           0.6869                0.2575   \n",
       "4            0.1374             0.2050           0.4000                0.1625   \n",
       "\n",
       "   worst symmetry  worst fractal dimension  target  \n",
       "0          0.4601                  0.11890       0  \n",
       "1          0.2750                  0.08902       0  \n",
       "2          0.3613                  0.08758       0  \n",
       "3          0.6638                  0.17300       0  \n",
       "4          0.2364                  0.07678       0  \n",
       "\n",
       "[5 rows x 31 columns]"
      ]
     },
     "execution_count": 4,
     "metadata": {},
     "output_type": "execute_result"
    }
   ],
   "source": [
    "dataset = load_breast_cancer()\n",
    "X_features = dataset.data\n",
    "y_label = dataset.target\n",
    "cancer_df = pd.DataFrame(data=X_features, columns=dataset.feature_names)\n",
    "cancer_df['target'] = y_label\n",
    "cancer_df.head(5)"
   ]
  },
  {
   "cell_type": "code",
   "execution_count": 5,
   "id": "15f5c02b-8fab-46f0-93f3-decdcb134563",
   "metadata": {},
   "outputs": [
    {
     "name": "stdout",
     "output_type": "stream",
     "text": [
      "['malignant' 'benign']\n",
      "1    357\n",
      "0    212\n",
      "Name: target, dtype: int64\n"
     ]
    }
   ],
   "source": [
    "print(dataset.target_names)\n",
    "print(cancer_df['target'].value_counts())"
   ]
  },
  {
   "cell_type": "code",
   "execution_count": 6,
   "id": "346564e7-acef-4b72-8bf5-053b3828b28d",
   "metadata": {},
   "outputs": [
    {
     "name": "stdout",
     "output_type": "stream",
     "text": [
      "(455, 30) (114, 30)\n"
     ]
    }
   ],
   "source": [
    "X_train, X_test, y_train, y_test = train_test_split(X_features, y_label, test_size=0.2, random_state=156)\n",
    "print(X_train.shape, X_test.shape)"
   ]
  },
  {
   "cell_type": "code",
   "execution_count": 7,
   "id": "adf2fe91-7181-4036-acde-9a315d8656d9",
   "metadata": {},
   "outputs": [],
   "source": [
    "dtrain = xgb.DMatrix(data=X_train, label=y_train)\n",
    "dtest = xgb.DMatrix(data=X_test, label=y_test)"
   ]
  },
  {
   "cell_type": "code",
   "execution_count": 8,
   "id": "9c71cc90-1257-4be9-8aac-19a95e6e3a7a",
   "metadata": {},
   "outputs": [],
   "source": [
    "params = {'max_depth':3,\n",
    "          'eta':0.1,\n",
    "          'objective':'binary:logistic',\n",
    "          'eval_metrics':'logloss',\n",
    "          'early_stoppings':100\n",
    "         }\n",
    "num_rounds = 400"
   ]
  },
  {
   "cell_type": "code",
   "execution_count": 9,
   "id": "eb32164b-a26f-4fbd-ac99-f908020db23f",
   "metadata": {},
   "outputs": [
    {
     "name": "stdout",
     "output_type": "stream",
     "text": [
      "[0]\ttrain-error:0.030769\teval-error:0.052632\n",
      "Multiple eval metrics have been passed: 'eval-error' will be used for early stopping.\n",
      "\n",
      "Will train until eval-error hasn't improved in 100 rounds.\n",
      "[1]\ttrain-error:0.026374\teval-error:0.061404\n",
      "[2]\ttrain-error:0.017582\teval-error:0.052632\n",
      "[3]\ttrain-error:0.021978\teval-error:0.061404\n",
      "[4]\ttrain-error:0.013187\teval-error:0.052632\n",
      "[5]\ttrain-error:0.013187\teval-error:0.052632\n",
      "[6]\ttrain-error:0.013187\teval-error:0.052632\n",
      "[7]\ttrain-error:0.013187\teval-error:0.052632\n",
      "[8]\ttrain-error:0.013187\teval-error:0.052632\n",
      "[9]\ttrain-error:0.013187\teval-error:0.052632\n",
      "[10]\ttrain-error:0.015385\teval-error:0.052632\n",
      "[11]\ttrain-error:0.013187\teval-error:0.052632\n",
      "[12]\ttrain-error:0.015385\teval-error:0.052632\n",
      "[13]\ttrain-error:0.013187\teval-error:0.052632\n",
      "[14]\ttrain-error:0.010989\teval-error:0.052632\n",
      "[15]\ttrain-error:0.010989\teval-error:0.052632\n",
      "[16]\ttrain-error:0.008791\teval-error:0.052632\n",
      "[17]\ttrain-error:0.008791\teval-error:0.052632\n",
      "[18]\ttrain-error:0.008791\teval-error:0.052632\n",
      "[19]\ttrain-error:0.008791\teval-error:0.04386\n",
      "[20]\ttrain-error:0.008791\teval-error:0.04386\n",
      "[21]\ttrain-error:0.008791\teval-error:0.04386\n",
      "[22]\ttrain-error:0.008791\teval-error:0.04386\n",
      "[23]\ttrain-error:0.008791\teval-error:0.04386\n",
      "[24]\ttrain-error:0.008791\teval-error:0.04386\n",
      "[25]\ttrain-error:0.008791\teval-error:0.035088\n",
      "[26]\ttrain-error:0.006593\teval-error:0.035088\n",
      "[27]\ttrain-error:0.006593\teval-error:0.035088\n",
      "[28]\ttrain-error:0.006593\teval-error:0.035088\n",
      "[29]\ttrain-error:0.006593\teval-error:0.035088\n",
      "[30]\ttrain-error:0.006593\teval-error:0.035088\n",
      "[31]\ttrain-error:0.006593\teval-error:0.035088\n",
      "[32]\ttrain-error:0.006593\teval-error:0.035088\n",
      "[33]\ttrain-error:0.006593\teval-error:0.035088\n",
      "[34]\ttrain-error:0.006593\teval-error:0.035088\n",
      "[35]\ttrain-error:0.006593\teval-error:0.04386\n",
      "[36]\ttrain-error:0.006593\teval-error:0.04386\n",
      "[37]\ttrain-error:0.006593\teval-error:0.04386\n",
      "[38]\ttrain-error:0.006593\teval-error:0.04386\n",
      "[39]\ttrain-error:0.006593\teval-error:0.04386\n",
      "[40]\ttrain-error:0.006593\teval-error:0.04386\n",
      "[41]\ttrain-error:0.006593\teval-error:0.04386\n",
      "[42]\ttrain-error:0.004396\teval-error:0.04386\n",
      "[43]\ttrain-error:0.004396\teval-error:0.04386\n",
      "[44]\ttrain-error:0.004396\teval-error:0.04386\n",
      "[45]\ttrain-error:0.004396\teval-error:0.04386\n",
      "[46]\ttrain-error:0.004396\teval-error:0.04386\n",
      "[47]\ttrain-error:0.004396\teval-error:0.04386\n",
      "[48]\ttrain-error:0.004396\teval-error:0.04386\n",
      "[49]\ttrain-error:0.004396\teval-error:0.04386\n",
      "[50]\ttrain-error:0.004396\teval-error:0.04386\n",
      "[51]\ttrain-error:0.004396\teval-error:0.04386\n",
      "[52]\ttrain-error:0.004396\teval-error:0.04386\n",
      "[53]\ttrain-error:0.004396\teval-error:0.04386\n",
      "[54]\ttrain-error:0.004396\teval-error:0.04386\n",
      "[55]\ttrain-error:0.004396\teval-error:0.04386\n",
      "[56]\ttrain-error:0.004396\teval-error:0.04386\n",
      "[57]\ttrain-error:0.004396\teval-error:0.04386\n",
      "[58]\ttrain-error:0.004396\teval-error:0.04386\n",
      "[59]\ttrain-error:0.004396\teval-error:0.04386\n",
      "[60]\ttrain-error:0.002198\teval-error:0.04386\n",
      "[61]\ttrain-error:0.002198\teval-error:0.04386\n",
      "[62]\ttrain-error:0.002198\teval-error:0.04386\n",
      "[63]\ttrain-error:0.002198\teval-error:0.04386\n",
      "[64]\ttrain-error:0.002198\teval-error:0.04386\n",
      "[65]\ttrain-error:0.002198\teval-error:0.04386\n",
      "[66]\ttrain-error:0.002198\teval-error:0.04386\n",
      "[67]\ttrain-error:0\teval-error:0.04386\n",
      "[68]\ttrain-error:0\teval-error:0.04386\n",
      "[69]\ttrain-error:0\teval-error:0.04386\n",
      "[70]\ttrain-error:0\teval-error:0.04386\n",
      "[71]\ttrain-error:0\teval-error:0.04386\n",
      "[72]\ttrain-error:0\teval-error:0.04386\n",
      "[73]\ttrain-error:0\teval-error:0.04386\n",
      "[74]\ttrain-error:0\teval-error:0.04386\n",
      "[75]\ttrain-error:0\teval-error:0.04386\n",
      "[76]\ttrain-error:0\teval-error:0.04386\n",
      "[77]\ttrain-error:0\teval-error:0.04386\n",
      "[78]\ttrain-error:0\teval-error:0.04386\n",
      "[79]\ttrain-error:0\teval-error:0.04386\n",
      "[80]\ttrain-error:0\teval-error:0.04386\n",
      "[81]\ttrain-error:0\teval-error:0.04386\n",
      "[82]\ttrain-error:0\teval-error:0.04386\n",
      "[83]\ttrain-error:0\teval-error:0.04386\n",
      "[84]\ttrain-error:0\teval-error:0.04386\n",
      "[85]\ttrain-error:0\teval-error:0.04386\n",
      "[86]\ttrain-error:0\teval-error:0.04386\n",
      "[87]\ttrain-error:0\teval-error:0.04386\n",
      "[88]\ttrain-error:0\teval-error:0.04386\n",
      "[89]\ttrain-error:0\teval-error:0.04386\n",
      "[90]\ttrain-error:0\teval-error:0.04386\n",
      "[91]\ttrain-error:0\teval-error:0.04386\n",
      "[92]\ttrain-error:0\teval-error:0.04386\n",
      "[93]\ttrain-error:0\teval-error:0.04386\n",
      "[94]\ttrain-error:0\teval-error:0.04386\n",
      "[95]\ttrain-error:0\teval-error:0.04386\n",
      "[96]\ttrain-error:0\teval-error:0.04386\n",
      "[97]\ttrain-error:0\teval-error:0.04386\n",
      "[98]\ttrain-error:0\teval-error:0.04386\n",
      "[99]\ttrain-error:0\teval-error:0.04386\n",
      "[100]\ttrain-error:0\teval-error:0.04386\n",
      "[101]\ttrain-error:0\teval-error:0.04386\n",
      "[102]\ttrain-error:0\teval-error:0.04386\n",
      "[103]\ttrain-error:0\teval-error:0.04386\n",
      "[104]\ttrain-error:0\teval-error:0.04386\n",
      "[105]\ttrain-error:0\teval-error:0.04386\n",
      "[106]\ttrain-error:0\teval-error:0.04386\n",
      "[107]\ttrain-error:0\teval-error:0.04386\n",
      "[108]\ttrain-error:0\teval-error:0.04386\n",
      "[109]\ttrain-error:0\teval-error:0.04386\n",
      "[110]\ttrain-error:0\teval-error:0.04386\n",
      "[111]\ttrain-error:0\teval-error:0.04386\n",
      "[112]\ttrain-error:0\teval-error:0.04386\n",
      "[113]\ttrain-error:0\teval-error:0.04386\n",
      "[114]\ttrain-error:0\teval-error:0.04386\n",
      "[115]\ttrain-error:0\teval-error:0.04386\n",
      "[116]\ttrain-error:0\teval-error:0.04386\n",
      "[117]\ttrain-error:0\teval-error:0.04386\n",
      "[118]\ttrain-error:0\teval-error:0.04386\n",
      "[119]\ttrain-error:0\teval-error:0.035088\n",
      "[120]\ttrain-error:0\teval-error:0.035088\n",
      "[121]\ttrain-error:0\teval-error:0.04386\n",
      "[122]\ttrain-error:0\teval-error:0.04386\n",
      "[123]\ttrain-error:0\teval-error:0.04386\n",
      "[124]\ttrain-error:0\teval-error:0.04386\n",
      "[125]\ttrain-error:0\teval-error:0.035088\n",
      "Stopping. Best iteration:\n",
      "[25]\ttrain-error:0.008791\teval-error:0.035088\n",
      "\n"
     ]
    }
   ],
   "source": [
    "# train 데이터세트는  'train', evaluation(test) 데이터 세트는 'eval'로 명기합니다\n",
    "wlist = [(dtrain, 'train'), (dtest, 'eval')]\n",
    "\n",
    "# 하이퍼 파라미터와 early stopping 파라미터를 train() 함수의 파라미터로 전달\n",
    "\n",
    "xgb_model = xgb.train(params = params, dtrain=dtrain, num_boost_round=num_rounds, early_stopping_rounds=100, evals=wlist)"
   ]
  },
  {
   "cell_type": "code",
   "execution_count": 12,
   "id": "fb1e39f0-4014-405e-a35e-b74a399a426a",
   "metadata": {},
   "outputs": [
    {
     "name": "stdout",
     "output_type": "stream",
     "text": [
      "predict() 수행 결과값을 10개만 표시, 예측 확률값으로 표시됨\n",
      "[0.875 0.003 0.934 0.173 0.987 1.    0.999 0.998 0.996 0.   ]\n",
      "예측값 10개만 표시 [1, 0, 1, 0, 1, 1, 1, 1, 1, 0]\n"
     ]
    }
   ],
   "source": [
    "pred_probs = xgb_model.predict(dtest)\n",
    "print('predict() 수행 결과값을 10개만 표시, 예측 확률값으로 표시됨')\n",
    "print(np.round(pred_probs[:10], 3))\n",
    "\n",
    "# 예측 확률이 0.5보다 크면 1, 그렇지 않으면 0으로 예측값 결정해 리스트 객체인 preds에 저장\n",
    "preds = [1 if x>0.5 else 0 for x in pred_probs]\n",
    "print('예측값 10개만 표시', preds[:10])"
   ]
  },
  {
   "cell_type": "code",
   "execution_count": 17,
   "id": "22a97f38-da6d-4193-abb1-7c8da6d609ce",
   "metadata": {},
   "outputs": [],
   "source": [
    "def get_clf_eval(y_test, pred=None, pred_proba=None):\n",
    "    confusion = confusion_matrix(y_test, pred)\n",
    "    accuracy = accuracy_score(y_test, pred)\n",
    "    precision = precision_score(y_test, pred)\n",
    "    recall = recall_score(y_test, pred)\n",
    "    f1 = f1_score(y_test, pred)\n",
    "    roc_auc = roc_auc_score(y_test, pred_proba)\n",
    "    print('오차 행렬')\n",
    "    print(confusion)\n",
    "    print('정확도 : {0:.4f}, 정밀도 : {1:.4f}, 재현율 : {2:.4f}, F1스코어 : {3:.4f}, AUC : {4:.4f}'.format(accuracy, precision, recall, f1, roc_auc))"
   ]
  },
  {
   "cell_type": "code",
   "execution_count": 18,
   "id": "df60a9a4-3c88-41b2-ae47-505040b14a5c",
   "metadata": {},
   "outputs": [],
   "source": [
    "def get_eval_by_threshold(y_test, pred_proba_c1, thresholds):\n",
    "    for custom_threshold in thresholds:\n",
    "        binarizer = Binarizer(threshold=custom_threshold).fit(pred_proba_c1)\n",
    "        custom_predict = binarizer.transform(pred_proba_c1)\n",
    "        print('# 임곗값 : ', custom_threshold)\n",
    "        get_clf_eval(y_test, custom_predict, pred_proba_c1)"
   ]
  },
  {
   "cell_type": "code",
   "execution_count": 19,
   "id": "0e3d7b2c-ace3-44d0-aeea-33e28c7aa58d",
   "metadata": {},
   "outputs": [
    {
     "name": "stdout",
     "output_type": "stream",
     "text": [
      "오차 행렬\n",
      "[[34  3]\n",
      " [ 1 76]]\n",
      "정확도 : 0.9649, 정밀도 : 0.9620, 재현율 : 0.9870, F1스코어 : 0.9744, AUC : 0.9947\n"
     ]
    }
   ],
   "source": [
    "get_clf_eval(y_test, preds, pred_probs)"
   ]
  },
  {
   "cell_type": "code",
   "execution_count": 20,
   "id": "a8eb8aa4-6243-4ead-b1d4-ca7fbcc99526",
   "metadata": {},
   "outputs": [
    {
     "data": {
      "text/plain": [
       "<AxesSubplot:title={'center':'Feature importance'}, xlabel='F score', ylabel='Features'>"
      ]
     },
     "execution_count": 20,
     "metadata": {},
     "output_type": "execute_result"
    },
    {
     "data": {
      "image/png": "[encoded data removed]",
      "text/plain": [
       "<Figure size 720x864 with 1 Axes>"
      ]
     },
     "metadata": {
      "needs_background": "light"
     },
     "output_type": "display_data"
    }
   ],
   "source": [
    "from xgboost import plot_importance\n",
    "import matplotlib.pyplot as plt\n",
    "%matplotlib inline\n",
    "\n",
    "fig, ax = plt.subplots(figsize=(10, 12))\n",
    "plot_importance(xgb_model, ax=ax)"
   ]
  },
  {
   "cell_type": "code",
   "execution_count": 21,
   "id": "79c5fbdb-3cfa-48d8-ad10-b2c8c7c7211d",
   "metadata": {},
   "outputs": [],
   "source": [
    "# 사이킷런에서 xgboost 사용하기\n",
    "from xgboost import XGBClassifier\n",
    "\n",
    "xgb_wrapper = XGBClassifier(n_estimators=400, learning_rate=0.1, max_depth=3)\n",
    "xgb_wrapper.fit(X_train, y_train)\n",
    "w_preds = xgb_wrapper.predict(X_test)\n",
    "w_pred_proba = xgb_wrapper.predict_proba(X_test)[:, 1]"
   ]
  },
  {
   "cell_type": "code",
   "execution_count": 22,
   "id": "0799518b-5ca8-4a96-9dea-725661f004d8",
   "metadata": {},
   "outputs": [
    {
     "name": "stdout",
     "output_type": "stream",
     "text": [
      "오차 행렬\n",
      "[[35  2]\n",
      " [ 1 76]]\n",
      "정확도 : 0.9737, 정밀도 : 0.9744, 재현율 : 0.9870, F1스코어 : 0.9806, AUC : 0.9951\n"
     ]
    }
   ],
   "source": [
    "get_clf_eval(y_test, w_preds, w_pred_proba)"
   ]
  },
  {
   "cell_type": "code",
   "execution_count": null,
   "id": "6fc84a46-ffc6-41a4-bf66-7978206065e3",
   "metadata": {},
   "outputs": [],
   "source": [
    "# early_stopping_rounds 사용하기\n",
    "xgb_wrapper = XGBClassifier(n_estimators=400, learning_rate=0.1, max_depth=3)\n",
    "evals = [(X_test, y_test)]\n",
    "xgb_wrapper.fit(X_train, y_train, early_stopping_rounds=100, eval_metric=\"logloss\", eval_set=evals, verbose=True)\n",
    "ws100_preds = xgb_wrapper.predict(X_test)\n",
    "ws100_pred_proba = xgb_wrapper.predict_proba(X_test)[:, 1]"
   ]
  },
  {
   "cell_type": "code",
   "execution_count": 29,
   "id": "310ae7ae-71e9-4dd6-a654-9c5de372196a",
   "metadata": {},
   "outputs": [
    {
     "name": "stdout",
     "output_type": "stream",
     "text": [
      "오차 행렬\n",
      "[[34  3]\n",
      " [ 1 76]]\n",
      "정확도 : 0.9649, 정밀도 : 0.9620, 재현율 : 0.9870, F1스코어 : 0.9744, AUC : 0.9954\n"
     ]
    }
   ],
   "source": [
    "get_clf_eval(y_test, ws100_preds, ws100_pred_proba)"
   ]
  },
  {
   "cell_type": "code",
   "execution_count": null,
   "id": "d93bde08-a4ac-49bd-9a06-65c5381787fc",
   "metadata": {},
   "outputs": [],
   "source": [
    "# early_stopping_rounds를 10으로 하고 재학습\n",
    "xgb_wrapper = XGBClassifier(n_estimators=400, learning_rate=0.1, max_depth=3)\n",
    "evals = [(X_test, y_test)]\n",
    "xgb_wrapper.fit(X_train, y_train, early_stopping_rounds=10, eval_metric=\"logloss\", eval_set=evals, verbose=True)\n",
    "ws10_preds = xgb_wrapper.predict(X_test)\n",
    "ws10_pred_proba = xgb_wrapper.predict_proba(X_test)[:, 1]"
   ]
  },
  {
   "cell_type": "code",
   "execution_count": 31,
   "id": "b0b9a01d-59af-4280-9ce4-70de024c43ec",
   "metadata": {},
   "outputs": [
    {
     "name": "stdout",
     "output_type": "stream",
     "text": [
      "오차 행렬\n",
      "[[34  3]\n",
      " [ 2 75]]\n",
      "정확도 : 0.9561, 정밀도 : 0.9615, 재현율 : 0.9740, F1스코어 : 0.9677, AUC : 0.9947\n"
     ]
    }
   ],
   "source": [
    "get_clf_eval(y_test, ws10_preds, ws10_pred_proba)"
   ]
  },
  {
   "cell_type": "code",
   "execution_count": 32,
   "id": "b1a05a91-5cfe-4e8a-9e08-5fce58fc5119",
   "metadata": {},
   "outputs": [
    {
     "data": {
      "text/plain": [
       "<AxesSubplot:title={'center':'Feature importance'}, xlabel='F score', ylabel='Features'>"
      ]
     },
     "execution_count": 32,
     "metadata": {},
     "output_type": "execute_result"
    },
    {
     "data": {
      "image/png": "[encoded data removed]",
      "text/plain": [
       "<Figure size 720x864 with 1 Axes>"
      ]
     },
     "metadata": {
      "needs_background": "light"
     },
     "output_type": "display_data"
    }
   ],
   "source": [
    "fig, ax = plt.subplots(figsize=(10, 12))\n",
    "plot_importance(xgb_wrapper, ax=ax)"
   ]
  },
  {
   "cell_type": "code",
   "execution_count": null,
   "id": "259a2b5d-210b-407c-a1e0-9911c86398ab",
   "metadata": {},
   "outputs": [],
   "source": []
  }
 ],
 "metadata": {
  "kernelspec": {
   "display_name": "Python Multi",
   "language": "python",
   "name": "multi"
  },
  "language_info": {
   "codemirror_mode": {
    "name": "ipython",
    "version": 3
   },
   "file_extension": ".py",
   "mimetype": "text/x-python",
   "name": "python",
   "nbconvert_exporter": "python",
   "pygments_lexer": "ipython3",
   "version": "3.7.6"
  }
 },
 "nbformat": 4,
 "nbformat_minor": 5
}
